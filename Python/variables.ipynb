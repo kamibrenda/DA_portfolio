{
 "cells": [
  {
   "cell_type": "code",
   "execution_count": 3,
   "metadata": {},
   "outputs": [
    {
     "name": "stdout",
     "output_type": "stream",
     "text": [
      "age : 32\n",
      "height : 5.5\n",
      "is_student : False\n"
     ]
    }
   ],
   "source": [
    "## Variables are used to store data that can be referenced and manipulated in a program\n",
    "##declaring and assigning variables\n",
    "\n",
    "age =32\n",
    "height = 5.5\n",
    "name = \"Brenda\"\n",
    "is_student = False\n",
    "\n",
    "##printing the variables\n",
    "print(\"age :\", age)\n",
    "print(\"height :\", height)\n",
    "print(\"is_student :\", False)"
   ]
  },
  {
   "cell_type": "code",
   "execution_count": null,
   "metadata": {},
   "outputs": [],
   "source": [
    "## variable names are case sensitive\n",
    "## must start with a letter or '_'\n",
    "##python is dynaically typed - type of variable is determined at runtime\n",
    "\n",
    "age =32 #int\n",
    "height = 5.5 #float"
   ]
  },
  {
   "cell_type": "code",
   "execution_count": 5,
   "metadata": {},
   "outputs": [
    {
     "name": "stdout",
     "output_type": "stream",
     "text": [
      "<class 'int'>\n",
      "<class 'str'>\n"
     ]
    }
   ],
   "source": [
    "## type checking and coversion\n",
    "age =32\n",
    "print(type(age))\n",
    "\n",
    "\n",
    "##type coversion\n",
    "\n",
    "age_str = str(age)\n",
    "print(type(age_str)) "
   ]
  },
  {
   "cell_type": "code",
   "execution_count": 6,
   "metadata": {},
   "outputs": [
    {
     "data": {
      "text/plain": [
       "float"
      ]
     },
     "execution_count": 6,
     "metadata": {},
     "output_type": "execute_result"
    }
   ],
   "source": [
    "name = \"Brenda\" #cannot be type converted to int\n",
    "height = 5.5\n",
    "type(height)"
   ]
  },
  {
   "cell_type": "code",
   "execution_count": 7,
   "metadata": {},
   "outputs": [
    {
     "data": {
      "text/plain": [
       "5.0"
      ]
     },
     "execution_count": 7,
     "metadata": {},
     "output_type": "execute_result"
    }
   ],
   "source": [
    "float(int(height))"
   ]
  },
  {
   "cell_type": "code",
   "execution_count": 11,
   "metadata": {},
   "outputs": [
    {
     "name": "stdout",
     "output_type": "stream",
     "text": [
      "10 <class 'int'>\n",
      "hello <class 'str'>\n",
      "5.5 <class 'float'>\n",
      "False <class 'bool'>\n"
     ]
    }
   ],
   "source": [
    "#Dynamic Typing -python allows type of a variable to change as the program executes\n",
    "var = 10 \n",
    "print(var, type(var))\n",
    "\n",
    "var = \"hello\"\n",
    "print(var, type(var))\n",
    "\n",
    "var = 5.5\n",
    "print(var, type(var))\n",
    "\n",
    "var = False\n",
    "print(var, type(var))\n"
   ]
  },
  {
   "cell_type": "code",
   "execution_count": 17,
   "metadata": {},
   "outputs": [
    {
     "name": "stdout",
     "output_type": "stream",
     "text": [
      "23 <class 'int'>\n"
     ]
    }
   ],
   "source": [
    "#input\n",
    "\n",
    "age = int(input(\"what is the age\"))\n",
    "print(age,type(age))"
   ]
  }
 ],
 "metadata": {
  "kernelspec": {
   "display_name": "Python 3",
   "language": "python",
   "name": "python3"
  },
  "language_info": {
   "codemirror_mode": {
    "name": "ipython",
    "version": 3
   },
   "file_extension": ".py",
   "mimetype": "text/x-python",
   "name": "python",
   "nbconvert_exporter": "python",
   "pygments_lexer": "ipython3",
   "version": "3.12.8"
  }
 },
 "nbformat": 4,
 "nbformat_minor": 2
}
