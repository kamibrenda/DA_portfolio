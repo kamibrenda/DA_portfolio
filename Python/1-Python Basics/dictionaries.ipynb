{
 "cells": [
  {
   "cell_type": "code",
   "execution_count": null,
   "metadata": {},
   "outputs": [],
   "source": [
    "## dictionaries are unoredered collection of items \n",
    "#stores data in key value pairs"
   ]
  },
  {
   "cell_type": "code",
   "execution_count": 1,
   "metadata": {},
   "outputs": [
    {
     "name": "stdout",
     "output_type": "stream",
     "text": [
      "<class 'dict'>\n"
     ]
    }
   ],
   "source": [
    "#creating dictionaries \n",
    "empty_dct = {}\n",
    "print(type(empty_dct))\n"
   ]
  },
  {
   "cell_type": "code",
   "execution_count": 4,
   "metadata": {},
   "outputs": [
    {
     "data": {
      "text/plain": [
       "{}"
      ]
     },
     "execution_count": 4,
     "metadata": {},
     "output_type": "execute_result"
    }
   ],
   "source": [
    "#initializing as a method \n",
    "empty_dct = dict()\n",
    "empty_dct"
   ]
  },
  {
   "cell_type": "code",
   "execution_count": 7,
   "metadata": {},
   "outputs": [
    {
     "name": "stdout",
     "output_type": "stream",
     "text": [
      "{'name': 'Brenda', 'age': 25, 'grade': 90}\n",
      "<class 'dict'>\n"
     ]
    }
   ],
   "source": [
    "#single key is always used - takes the most recent value \n",
    "student= {\"name\":\"Brenda\", \"age\":25, \"grade\":90}\n",
    "print(student)  #keys should be unique \n",
    "print(type(student))"
   ]
  },
  {
   "cell_type": "code",
   "execution_count": 10,
   "metadata": {},
   "outputs": [
    {
     "name": "stdout",
     "output_type": "stream",
     "text": [
      "{'name': 'Brenda', 'age': 25, 'grade': 'A'}\n",
      "25\n"
     ]
    }
   ],
   "source": [
    "#accessing dictionary elements\n",
    "student= {\"name\":\"Brenda\", \"age\":25, \"grade\":\"A\"}\n",
    "print(student)\n",
    "student[\"age\"]\n",
    "print(student[\"age\"])"
   ]
  },
  {
   "cell_type": "code",
   "execution_count": 12,
   "metadata": {},
   "outputs": [
    {
     "name": "stdout",
     "output_type": "stream",
     "text": [
      "A\n",
      "Brenda\n",
      "Not Available\n"
     ]
    }
   ],
   "source": [
    "#accessing the values using the get() method\n",
    "print(student.get(\"grade\"))\n",
    "print(student.get(\"name\"))\n",
    "print(student.get(\"last_name\", \"Not Available\"))"
   ]
  },
  {
   "cell_type": "code",
   "execution_count": 13,
   "metadata": {},
   "outputs": [
    {
     "name": "stdout",
     "output_type": "stream",
     "text": [
      "{'name': 'Brenda', 'age': 25, 'grade': 'A'}\n"
     ]
    }
   ],
   "source": [
    "#modifying dictionary elements\n",
    "#dictionary are mutable - can add, update and delete elements\n",
    "print(student)"
   ]
  },
  {
   "cell_type": "code",
   "execution_count": 15,
   "metadata": {},
   "outputs": [
    {
     "name": "stdout",
     "output_type": "stream",
     "text": [
      "{'name': 'Brenda', 'age': 25, 'grade': 'A', 'address': 'Kenya'}\n",
      "{'name': 'Brenda', 'age': 25, 'grade': 'A', 'address': 'Kenya'}\n"
     ]
    }
   ],
   "source": [
    "#updating new value\n",
    "student[\"age\"]=25\n",
    "print(student)\n",
    "student[\"address\"]=\"Kenya\" #adding a new key value \n",
    "print(student)"
   ]
  },
  {
   "cell_type": "code",
   "execution_count": 18,
   "metadata": {},
   "outputs": [
    {
     "ename": "KeyError",
     "evalue": "'grade'",
     "output_type": "error",
     "traceback": [
      "\u001b[1;31m---------------------------------------------------------------------------\u001b[0m",
      "\u001b[1;31mKeyError\u001b[0m                                  Traceback (most recent call last)",
      "Cell \u001b[1;32mIn[18], line 1\u001b[0m\n\u001b[1;32m----> 1\u001b[0m \u001b[38;5;28;01mdel\u001b[39;00m student[\u001b[38;5;124m\"\u001b[39m\u001b[38;5;124mgrade\u001b[39m\u001b[38;5;124m\"\u001b[39m] \u001b[38;5;66;03m#deleting the kvp\u001b[39;00m\n\u001b[0;32m      2\u001b[0m \u001b[38;5;28mprint\u001b[39m(student)\n",
      "\u001b[1;31mKeyError\u001b[0m: 'grade'"
     ]
    }
   ],
   "source": [
    "del student[\"grade\"] #deleting the kvp\n",
    "print(student) #error due to already deleted"
   ]
  },
  {
   "cell_type": "code",
   "execution_count": 21,
   "metadata": {},
   "outputs": [
    {
     "name": "stdout",
     "output_type": "stream",
     "text": [
      "dict_keys(['name', 'age', 'address'])\n",
      "dict_values(['Brenda', 25, 'Kenya'])\n",
      "dict_items([('name', 'Brenda'), ('age', 25), ('address', 'Kenya')])\n"
     ]
    }
   ],
   "source": [
    "#dictionary methods\n",
    "keys=student.keys() # get all the keys\n",
    "print(keys)\n",
    "values = student.values() # get all the values\n",
    "print(values)\n",
    "\n",
    "items=student.items() #to get all the Key value pairs\n",
    "print(items)  #values shown as tuples"
   ]
  },
  {
   "cell_type": "code",
   "execution_count": 22,
   "metadata": {},
   "outputs": [
    {
     "name": "stdout",
     "output_type": "stream",
     "text": [
      "{'name': 'Brenda', 'age': 25, 'address': 'Kenya'}\n"
     ]
    }
   ],
   "source": [
    "#shallow copy - exact copy\n",
    "student_copy =student\n",
    "print(student_copy) #same values since have copied"
   ]
  },
  {
   "cell_type": "code",
   "execution_count": 24,
   "metadata": {},
   "outputs": [
    {
     "name": "stdout",
     "output_type": "stream",
     "text": [
      "{'name': 'BrendaM', 'age': 25, 'address': 'Kenya'}\n",
      "{'name': 'BrendaM', 'age': 25, 'address': 'Kenya'}\n"
     ]
    }
   ],
   "source": [
    "student_copy =student.copy()  ##shallow copy\n",
    "print(student_copy)\n",
    "print(student)"
   ]
  },
  {
   "cell_type": "code",
   "execution_count": 26,
   "metadata": {},
   "outputs": [
    {
     "name": "stdout",
     "output_type": "stream",
     "text": [
      "{'name': 'BrendaM', 'age': 25, 'address': 'Kenya'}\n",
      "{'name': 'Brenda3', 'age': 25, 'address': 'Kenya'}\n"
     ]
    }
   ],
   "source": [
    "student[\"name\"] = \"Brenda3\" # shallow copy - once updated does not affect prev. var\n",
    "print(student_copy)\n",
    "print(student)"
   ]
  },
  {
   "cell_type": "code",
   "execution_count": 27,
   "metadata": {},
   "outputs": [
    {
     "name": "stdout",
     "output_type": "stream",
     "text": [
      "dict_keys(['name', 'age', 'address'])\n",
      "dict_keys(['name', 'age', 'address'])\n",
      "dict_keys(['name', 'age', 'address'])\n"
     ]
    }
   ],
   "source": [
    "#iterating over dictionaries\n",
    "#using loops to iterate\n",
    "\n",
    "#iterating over keys\n",
    "for key in student.keys():\n",
    "    print(keys)"
   ]
  },
  {
   "cell_type": "code",
   "execution_count": 28,
   "metadata": {},
   "outputs": [
    {
     "name": "stdout",
     "output_type": "stream",
     "text": [
      "dict_values(['Brenda3', 25, 'Kenya'])\n",
      "dict_values(['Brenda3', 25, 'Kenya'])\n",
      "dict_values(['Brenda3', 25, 'Kenya'])\n"
     ]
    }
   ],
   "source": [
    "#iterating over values\n",
    "for key in student.values():\n",
    "    print(values)"
   ]
  },
  {
   "cell_type": "code",
   "execution_count": 31,
   "metadata": {},
   "outputs": [
    {
     "name": "stdout",
     "output_type": "stream",
     "text": [
      "name:Brenda3\n",
      "age:25\n",
      "address:Kenya\n"
     ]
    }
   ],
   "source": [
    "#iterating over Key value pairs\n",
    "for key,value in student.items():\n",
    "    print(f\"{key}:{value}\")"
   ]
  },
  {
   "cell_type": "code",
   "execution_count": null,
   "metadata": {},
   "outputs": [],
   "source": [
    "#nested dictionaries\n"
   ]
  },
  {
   "cell_type": "code",
   "execution_count": null,
   "metadata": {},
   "outputs": [],
   "source": []
  },
  {
   "cell_type": "code",
   "execution_count": null,
   "metadata": {},
   "outputs": [],
   "source": []
  }
 ],
 "metadata": {
  "kernelspec": {
   "display_name": "Python 3",
   "language": "python",
   "name": "python3"
  },
  "language_info": {
   "codemirror_mode": {
    "name": "ipython",
    "version": 3
   },
   "file_extension": ".py",
   "mimetype": "text/x-python",
   "name": "python",
   "nbconvert_exporter": "python",
   "pygments_lexer": "ipython3",
   "version": "3.12.8"
  }
 },
 "nbformat": 4,
 "nbformat_minor": 2
}
