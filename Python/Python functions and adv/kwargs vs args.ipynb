{
 "cells": [
  {
   "cell_type": "markdown",
   "metadata": {},
   "source": [
    "#### Function definition\n",
    "##### Block of code that performs a specific task. Helps in reusing code, organizing code and improving readability"
   ]
  },
  {
   "cell_type": "code",
   "execution_count": null,
   "metadata": {},
   "outputs": [],
   "source": [
    "## syntax \n",
    "def function_name(parameters):\n",
    "    \"\"\" Docstring \"\"\"\n",
    "    # Function body \n",
    "    return expression\n"
   ]
  },
  {
   "cell_type": "code",
   "execution_count": 1,
   "metadata": {},
   "outputs": [],
   "source": [
    "def even_or_odd(num):\n",
    "    \"\"\"This function checks if num is even or odd\"\"\"\n",
    "    if num % 2 == 0:\n",
    "        print(\"The number is even\")\n",
    "    else:\n",
    "        print(\"The number is odd\")"
   ]
  },
  {
   "cell_type": "code",
   "execution_count": 3,
   "metadata": {},
   "outputs": [
    {
     "name": "stdout",
     "output_type": "stream",
     "text": [
      "The number is odd\n",
      "The number is even\n"
     ]
    }
   ],
   "source": [
    "#calling the function - using the function\n",
    "even_or_odd(15)\n",
    "even_or_odd(30)"
   ]
  },
  {
   "cell_type": "code",
   "execution_count": 4,
   "metadata": {},
   "outputs": [
    {
     "name": "stdout",
     "output_type": "stream",
     "text": [
      "7\n"
     ]
    }
   ],
   "source": [
    "#functions with mutiple parameters\n",
    "\n",
    "def add(a,b):\n",
    "    return a + b\n",
    "\n",
    "result = add(5,2)\n",
    "print(result)\n"
   ]
  },
  {
   "cell_type": "code",
   "execution_count": 10,
   "metadata": {},
   "outputs": [
    {
     "name": "stdout",
     "output_type": "stream",
     "text": [
      "Welcome Guest to Functions in python\n",
      "Welcome Brenda to Functions in python\n"
     ]
    }
   ],
   "source": [
    "# default parameters\n",
    "\n",
    "def greet(name= \"Guest\"):\n",
    "    print(f\"Welcome {name} to Functions in python\")\n",
    "\n",
    "#calling\n",
    "greet()\n",
    "greet(\"Brenda\")"
   ]
  },
  {
   "cell_type": "code",
   "execution_count": 12,
   "metadata": {},
   "outputs": [],
   "source": [
    "#variable length arguements\n",
    "#positional vs keyword arguements\n",
    "\n",
    "#positional arguements\n",
    "\n",
    "def print_numbers(*args): # allows for mutiple positional arguements\n",
    "    for number in args:\n",
    "        print(number)\n"
   ]
  },
  {
   "cell_type": "code",
   "execution_count": 13,
   "metadata": {},
   "outputs": [
    {
     "name": "stdout",
     "output_type": "stream",
     "text": [
      "1\n",
      "2\n",
      "3\n",
      "4\n",
      "5\n",
      "6\n",
      "7\n",
      "8\n",
      "9\n",
      "args\n"
     ]
    }
   ],
   "source": [
    "print_numbers(1,2,3,4,5,6,7,8,9,\"args\") # are positional arguements referenced by *args"
   ]
  },
  {
   "cell_type": "code",
   "execution_count": 14,
   "metadata": {},
   "outputs": [],
   "source": [
    "#keyword arguements - all the parameters are in the value of key value pairs\n",
    "def print_details(**kwargs):\n",
    "    for key,value  in kwargs.items():\n",
    "        print(f\"{key}: {value}\")"
   ]
  },
  {
   "cell_type": "code",
   "execution_count": 16,
   "metadata": {},
   "outputs": [
    {
     "name": "stdout",
     "output_type": "stream",
     "text": [
      "name: Brenda\n",
      "age: 25\n",
      "country: Kenya\n"
     ]
    }
   ],
   "source": [
    "print_details(name = \"Brenda\", age = 25, country = \"Kenya\")"
   ]
  },
  {
   "cell_type": "code",
   "execution_count": 17,
   "metadata": {},
   "outputs": [],
   "source": [
    "#combo of positional and keyword arguements\n",
    "def print_details(*args, **kwargs): \n",
    "    for val in args:\n",
    "        print(f\"Positional arguement : {val}\")\n",
    "\n",
    "    for key,value  in kwargs.items():\n",
    "        print(f\"{key}: {value}\")\n",
    "    "
   ]
  },
  {
   "cell_type": "code",
   "execution_count": 18,
   "metadata": {},
   "outputs": [
    {
     "name": "stdout",
     "output_type": "stream",
     "text": [
      "Positional arguement : 1\n",
      "Positional arguement : 2\n",
      "Positional arguement : 3\n",
      "name: Brenda\n",
      "age: 25\n",
      "country: Kenya\n"
     ]
    }
   ],
   "source": [
    "print_details(1,2,3, name = \"Brenda\", age = 25, country = \"Kenya\")"
   ]
  },
  {
   "cell_type": "code",
   "execution_count": 2,
   "metadata": {},
   "outputs": [
    {
     "data": {
      "text/plain": [
       "(100, 5)"
      ]
     },
     "execution_count": 2,
     "metadata": {},
     "output_type": "execute_result"
    }
   ],
   "source": [
    "# return statements\n",
    "def multiply(a,b):\n",
    "    return a*b,a  # can return mutiple statements\n",
    "\n",
    "multiply(5,20)\n"
   ]
  }
 ],
 "metadata": {
  "kernelspec": {
   "display_name": "Python 3",
   "language": "python",
   "name": "python3"
  },
  "language_info": {
   "codemirror_mode": {
    "name": "ipython",
    "version": 3
   },
   "file_extension": ".py",
   "mimetype": "text/x-python",
   "name": "python",
   "nbconvert_exporter": "python",
   "pygments_lexer": "ipython3",
   "version": "3.12.8"
  }
 },
 "nbformat": 4,
 "nbformat_minor": 2
}
