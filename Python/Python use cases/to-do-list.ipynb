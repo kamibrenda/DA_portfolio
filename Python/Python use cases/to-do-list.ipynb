{
 "cells": [
  {
   "cell_type": "markdown",
   "metadata": {},
   "source": [
    "## TO DO LIST"
   ]
  },
  {
   "cell_type": "code",
   "execution_count": 1,
   "metadata": {},
   "outputs": [],
   "source": [
    "#Creating a to do list and keep track of tasks \n",
    "#using lists "
   ]
  },
  {
   "cell_type": "code",
   "execution_count": 2,
   "metadata": {},
   "outputs": [
    {
     "name": "stdout",
     "output_type": "stream",
     "text": [
      "['Buy Groceries', 'Push code', 'change frames for glasses', 'Schedule a meeting', 'Do yoga']\n"
     ]
    }
   ],
   "source": [
    "to_do_list =[\"Buy Groceries\", \"Push code\", \"change frames for glasses\"]\n",
    "\n",
    "## adding to task \n",
    "to_do_list.append(\"Schedule a meeting\")\n",
    "to_do_list.append(\"Do yoga\")\n",
    "\n",
    "print(to_do_list)"
   ]
  },
  {
   "cell_type": "code",
   "execution_count": 4,
   "metadata": {},
   "outputs": [
    {
     "name": "stdout",
     "output_type": "stream",
     "text": [
      "['Buy Groceries', 'change frames for glasses', 'Schedule a meeting', 'Do yoga']\n"
     ]
    }
   ],
   "source": [
    "#Removing a completed task\n",
    "to_do_list.remove(\"Push code\")\n",
    "print(to_do_list)"
   ]
  },
  {
   "cell_type": "code",
   "execution_count": 5,
   "metadata": {},
   "outputs": [
    {
     "name": "stdout",
     "output_type": "stream",
     "text": [
      "Go and practice yoga right now girl!\n",
      "To do list remaining\n",
      "-Buy Groceries\n",
      "-change frames for glasses\n",
      "-Schedule a meeting\n",
      "-Do yoga\n"
     ]
    }
   ],
   "source": [
    "#Checking to see if task is still in the list\n",
    "\n",
    "if \"Do yoga\" in to_do_list:\n",
    "    print(\"Go and practice yoga right now girl!\")\n",
    "\n",
    "print(\"To do list remaining\")\n",
    "for task in to_do_list:\n",
    "    print(f\"-{task}\")"
   ]
  }
 ],
 "metadata": {
  "kernelspec": {
   "display_name": "Python 3",
   "language": "python",
   "name": "python3"
  },
  "language_info": {
   "codemirror_mode": {
    "name": "ipython",
    "version": 3
   },
   "file_extension": ".py",
   "mimetype": "text/x-python",
   "name": "python",
   "nbconvert_exporter": "python",
   "pygments_lexer": "ipython3",
   "version": "3.12.8"
  }
 },
 "nbformat": 4,
 "nbformat_minor": 2
}
