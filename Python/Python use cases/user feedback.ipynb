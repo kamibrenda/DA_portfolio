{
 "cells": [
  {
   "cell_type": "markdown",
   "metadata": {},
   "source": [
    "## Using a list to collect user feedback"
   ]
  },
  {
   "cell_type": "code",
   "execution_count": 1,
   "metadata": {},
   "outputs": [
    {
     "name": "stdout",
     "output_type": "stream",
     "text": [
      "['Great Service!', 'Very Satisfied', 'Could be better', 'Excellent experience', 'Not happy with the service']\n"
     ]
    }
   ],
   "source": [
    "feedback = [\"Great Service!\", \"Very Satisfied\", \"Could be better\", \"Excellent experience\"]\n",
    "\n",
    "#adding new feedback \n",
    "feedback.append(\"Not happy with the service\")\n",
    "\n",
    "#view current feedback\n",
    "print(feedback)\n"
   ]
  },
  {
   "cell_type": "code",
   "execution_count": 2,
   "metadata": {},
   "outputs": [
    {
     "name": "stdout",
     "output_type": "stream",
     "text": [
      "Positive Feedback Count: 2\n"
     ]
    }
   ],
   "source": [
    "# counting specific feedback\n",
    "positive_feedback_count = sum(1 for comment in feedback if \"great\" in comment.lower() or \"excellent\" in comment.lower())\n",
    "\n",
    "print(f\"Positive Feedback Count: {positive_feedback_count}\")"
   ]
  },
  {
   "cell_type": "code",
   "execution_count": 3,
   "metadata": {},
   "outputs": [
    {
     "name": "stdout",
     "output_type": "stream",
     "text": [
      "User Feedback\n",
      " - Great Service!\n",
      " - Very Satisfied\n",
      " - Could be better\n",
      " - Excellent experience\n",
      " - Not happy with the service\n"
     ]
    }
   ],
   "source": [
    "#printing all feedback \n",
    "print(\"User Feedback\")\n",
    "for comment in feedback:\n",
    "    print(f\" - {comment}\")"
   ]
  }
 ],
 "metadata": {
  "kernelspec": {
   "display_name": "Python 3",
   "language": "python",
   "name": "python3"
  },
  "language_info": {
   "codemirror_mode": {
    "name": "ipython",
    "version": 3
   },
   "file_extension": ".py",
   "mimetype": "text/x-python",
   "name": "python",
   "nbconvert_exporter": "python",
   "pygments_lexer": "ipython3",
   "version": "3.12.8"
  }
 },
 "nbformat": 4,
 "nbformat_minor": 2
}
