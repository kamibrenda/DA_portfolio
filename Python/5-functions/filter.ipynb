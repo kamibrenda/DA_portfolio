{
 "cells": [
  {
   "cell_type": "markdown",
   "metadata": {},
   "source": [
    "##### The fiter() function constructs an iterator from elements of an iterable for which a function returns true. It is used filter out items from a list based on a condition "
   ]
  },
  {
   "cell_type": "code",
   "execution_count": 1,
   "metadata": {},
   "outputs": [
    {
     "data": {
      "text/plain": [
       "True"
      ]
     },
     "execution_count": 1,
     "metadata": {},
     "output_type": "execute_result"
    }
   ],
   "source": [
    "def even(num):\n",
    "    if num%2==0:\n",
    "        return True\n",
    "    \n",
    "even(24)"
   ]
  },
  {
   "cell_type": "code",
   "execution_count": 2,
   "metadata": {},
   "outputs": [
    {
     "data": {
      "text/plain": [
       "[2, 6, 8, 10, 12]"
      ]
     },
     "execution_count": 2,
     "metadata": {},
     "output_type": "execute_result"
    }
   ],
   "source": [
    "lst = [1,2,3.4,5,6,7,8,9,10,11,12]\n",
    "\n",
    "list(filter(even,lst)) #returns only elements that satisfies the condition"
   ]
  },
  {
   "cell_type": "code",
   "execution_count": 3,
   "metadata": {},
   "outputs": [
    {
     "name": "stdout",
     "output_type": "stream",
     "text": [
      "[6, 7, 8, 9]\n"
     ]
    }
   ],
   "source": [
    "#filter with a lambda function\n",
    "numbers =[1,2,3,4,5,6,7,8,9]\n",
    "greater_than_five=list(filter(lambda x:x>5, numbers))\n",
    "print(greater_than_five)"
   ]
  },
  {
   "cell_type": "code",
   "execution_count": 5,
   "metadata": {},
   "outputs": [
    {
     "name": "stdout",
     "output_type": "stream",
     "text": [
      "[6, 8]\n"
     ]
    }
   ],
   "source": [
    "## filter with lambda function with mutiple conditions\n",
    "numbers =[1,2,3,4,5,6,7,8,9]\n",
    "even_and_greater_than_five = list(filter(lambda x:x>5 and x%2==0, numbers))\n",
    "print(even_and_greater_than_five)"
   ]
  },
  {
   "cell_type": "code",
   "execution_count": 10,
   "metadata": {},
   "outputs": [
    {
     "name": "stdout",
     "output_type": "stream",
     "text": [
      "[{'name': 'Brenda', 'age': 25}, {'name': 'Michelle ', 'age': 23}]\n"
     ]
    }
   ],
   "source": [
    "## filter with dictionaries\n",
    "#used to check if age is greater than 25\n",
    "def is_age_above_22(person):\n",
    "    return person['age'] > 22\n",
    "\n",
    "people=[\n",
    "    {'name':'Brenda', 'age': 25},\n",
    "    {'name':'Michelle ', 'age': 23},\n",
    "    {'name': 'Christine', 'age': 22},\n",
    "    {'name': 'Joy', 'age': 21},\n",
    "    {'name': 'Ivy', 'age': 11}\n",
    "]\n",
    "\n",
    "filtered_ages = list(filter(is_age_above_22,people))\n",
    "print(filtered_ages)\n"
   ]
  },
  {
   "cell_type": "code",
   "execution_count": 11,
   "metadata": {},
   "outputs": [
    {
     "name": "stdout",
     "output_type": "stream",
     "text": [
      "[{'name': 'Brenda', 'age': 25}, {'name': 'Michelle ', 'age': 23}]\n"
     ]
    }
   ],
   "source": [
    "#filter with dictionary and lambda function\n",
    "check_people = list(filter(lambda people: people[\"age\"] > 22, people))\n",
    "print(check_people)"
   ]
  },
  {
   "cell_type": "code",
   "execution_count": 1,
   "metadata": {},
   "outputs": [],
   "source": [
    "## converted this file into .py from ipynb\n",
    "#jupyter nbconvert --to script filter.ipynb\n"
   ]
  }
 ],
 "metadata": {
  "kernelspec": {
   "display_name": "Python 3",
   "language": "python",
   "name": "python3"
  },
  "language_info": {
   "codemirror_mode": {
    "name": "ipython",
    "version": 3
   },
   "file_extension": ".py",
   "mimetype": "text/x-python",
   "name": "python",
   "nbconvert_exporter": "python",
   "pygments_lexer": "ipython3",
   "version": "3.12.8"
  }
 },
 "nbformat": 4,
 "nbformat_minor": 2
}
